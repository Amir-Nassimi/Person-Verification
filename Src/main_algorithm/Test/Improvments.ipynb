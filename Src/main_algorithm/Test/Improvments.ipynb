{
 "cells": [
  {
   "cell_type": "markdown",
   "id": "18772a66",
   "metadata": {},
   "source": [
    "# Import"
   ]
  },
  {
   "cell_type": "code",
   "execution_count": 1,
   "id": "cea203a3",
   "metadata": {
    "ExecuteTime": {
     "end_time": "2023-11-07T07:56:53.833783800Z",
     "start_time": "2023-11-07T07:56:53.818157900Z"
    }
   },
   "outputs": [],
   "source": [
    "import os\n",
    "os.chdir('../../../../')"
   ]
  },
  {
   "cell_type": "code",
   "execution_count": 2,
   "id": "a930c205",
   "metadata": {
    "ExecuteTime": {
     "end_time": "2023-11-07T07:56:59.755944300Z",
     "start_time": "2023-11-07T07:56:55.253932400Z"
    }
   },
   "outputs": [],
   "source": [
    "import time\n",
    "import cv2\n",
    "import json\n",
    "from threading import Thread\n",
    "from PIL import Image\n",
    "from person_verification.Src.main_algorithm.TrackingModule import TrackingSystem"
   ]
  },
  {
   "cell_type": "markdown",
   "id": "9acd9543-f238-4de9-a2ef-97676b78c440",
   "metadata": {},
   "source": [
    "# Initialization"
   ]
  },
  {
   "cell_type": "code",
   "execution_count": 3,
   "id": "cb89e452",
   "metadata": {
    "ExecuteTime": {
     "end_time": "2023-11-07T06:53:13.663860700Z",
     "start_time": "2023-11-07T06:53:04.241729Z"
    }
   },
   "outputs": [
    {
     "name": "stderr",
     "output_type": "stream",
     "text": [
      "Using cache found in C:\\Users\\p.aghaomidi/.cache\\torch\\hub\\ultralytics_yolov5_master\n",
      "YOLOv5  2023-8-6 Python-3.9.18 torch-2.1.0+cpu CPU\n",
      "\n",
      "Fusing layers... \n",
      "YOLOv5s6 summary: 280 layers, 12612508 parameters, 0 gradients\n",
      "Adding AutoShape... \n"
     ]
    }
   ],
   "source": [
    "with open('person_verification/Datasets/Dataset_0/representations.json', \"rb\") as f:\n",
    "    representations = json.load(f)\n",
    "\n",
    "MyTrackingSystem = TrackingSystem(face_detection_model_path         = 'person_verification/Models/YOLOs/yolov8n-face.pt',\n",
    "                                  face_detection_super_res_model    = 'person_verification/Models/SRmodels/ESPCN_x3.pb',\n",
    "                                  face_verification_database_path   = False,\n",
    "                                  face_verification_representations = representations,\n",
    "                                  body_detection_model_path         = 'person_verification/Models/YOLOs/yolov5s6.pt',\n",
    "                                  body_detection_super_res_model    = 'person_verification/Models/SRmodels/ESPCN_x2.pb')"
   ]
  },
  {
   "cell_type": "code",
   "execution_count": 7,
   "id": "bc5a15b8",
   "metadata": {
    "ExecuteTime": {
     "end_time": "2023-11-07T06:57:15.182813700Z",
     "start_time": "2023-11-07T06:57:15.084585400Z"
    }
   },
   "outputs": [
    {
     "name": "stdout",
     "output_type": "stream",
     "text": [
      "__________________________________________________________________________________________\n",
      "False\n",
      "__________________________________________________________________________________________\n",
      "The time is:  0.08202791213989258\n",
      "__________________________________________________________________________________________\n"
     ]
    }
   ],
   "source": [
    "frame        = Image.open('person_verification/Src/main_algorithm/Test/2.jpg')\n",
    "start        = time.time()\n",
    "result, flag = MyTrackingSystem.track([frame])\n",
    "end          = time.time()\n",
    "print('__________________________________________________________________________________________')\n",
    "print(flag)\n",
    "print('__________________________________________________________________________________________')\n",
    "print('The time is: ', end-start)\n",
    "print('__________________________________________________________________________________________')\n",
    "result"
   ]
  },
  {
   "cell_type": "code",
   "execution_count": null,
   "outputs": [],
   "source": [],
   "metadata": {
    "collapsed": false
   },
   "id": "8b4430078e89571"
  }
 ],
 "metadata": {
  "kernelspec": {
   "display_name": "tracking-system kernel",
   "language": "python",
   "name": "tracking-system"
  },
  "language_info": {
   "codemirror_mode": {
    "name": "ipython",
    "version": 3
   },
   "file_extension": ".py",
   "mimetype": "text/x-python",
   "name": "python",
   "nbconvert_exporter": "python",
   "pygments_lexer": "ipython3",
   "version": "3.9.18"
  }
 },
 "nbformat": 4,
 "nbformat_minor": 5
}
